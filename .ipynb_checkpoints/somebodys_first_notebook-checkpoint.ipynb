{
 "cells": [
  {
   "cell_type": "markdown",
   "id": "74185707-2a8c-4957-b957-4a7dd7fa8e10",
   "metadata": {},
   "source": [
    "# IS597-MLC User Guide and Service Access Assignment"
   ]
  },
  {
   "cell_type": "markdown",
   "id": "997163b7-6b4d-4490-a6ae-e6281561bde1",
   "metadata": {},
   "source": [
    "## Purpose\n",
    "This is a very simple Jupyter Notebook that serves to demonstrate the use of both markdown cells and code cells."
   ]
  },
  {
   "cell_type": "markdown",
   "id": "17fb7a95-7016-4e77-a08b-ee9695e8f0d5",
   "metadata": {},
   "source": [
    "## A quote from Dr. Martin Luther King Jr."
   ]
  },
  {
   "cell_type": "code",
   "execution_count": 1,
   "id": "ac991eab-491a-4476-9226-cc02139bd712",
   "metadata": {},
   "outputs": [
    {
     "name": "stdout",
     "output_type": "stream",
     "text": [
      "True peace is not merely the absence of tension; it is the presence of justice.\n"
     ]
    }
   ],
   "source": [
    "print('True peace is not merely the absence of tension; it is the presence of justice.')"
   ]
  },
  {
   "cell_type": "markdown",
   "id": "20c71255-0a7c-4252-bb18-c46bfab5d20d",
   "metadata": {},
   "source": [
    "## Optional: Place code for _Challenge_ exercise in code cell below."
   ]
  },
  {
   "cell_type": "code",
   "execution_count": null,
   "id": "d14c6d43-ee9c-45ba-8fed-286c9491701c",
   "metadata": {},
   "outputs": [],
   "source": []
  }
 ],
 "metadata": {
  "kernelspec": {
   "display_name": "Python 3 (ipykernel)",
   "language": "python",
   "name": "python3"
  },
  "language_info": {
   "codemirror_mode": {
    "name": "ipython",
    "version": 3
   },
   "file_extension": ".py",
   "mimetype": "text/x-python",
   "name": "python",
   "nbconvert_exporter": "python",
   "pygments_lexer": "ipython3",
   "version": "3.11.9"
  }
 },
 "nbformat": 4,
 "nbformat_minor": 5
}
